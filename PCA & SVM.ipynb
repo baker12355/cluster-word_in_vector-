{
 "cells": [
  {
   "cell_type": "markdown",
   "metadata": {},
   "source": [
    "# PCA"
   ]
  },
  {
   "cell_type": "markdown",
   "metadata": {},
   "source": [
    "#### 預處理Function"
   ]
  },
  {
   "cell_type": "code",
   "execution_count": 2,
   "metadata": {
    "collapsed": true
   },
   "outputs": [],
   "source": [
    "from __future__ import division\n",
    "import codecs, numpy\n",
    "from textblob import TextBlob  #情感分類\n",
    "import math\n",
    "\n",
    "\n",
    "def build_word_vector_matrix(vector_file, n_words):\n",
    "  '''Return the vectors and labels for the first n_words in vector file'''\n",
    "  numpy_arrays = []\n",
    "  labels_array = []\n",
    "  with codecs.open(vector_file, 'r', 'utf-8') as f:\n",
    "    for c, r in enumerate(f):\n",
    "      sr = r.split()\n",
    "      labels_array.append(sr[0])\n",
    "      numpy_arrays.append( numpy.array([float(i) for i in sr[1:]]) )\n",
    "\n",
    "      if c == n_words:\n",
    "        return numpy.array( numpy_arrays ), labels_array\n",
    "\n",
    "  return numpy.array( numpy_arrays ), labels_array\n",
    "\n",
    "def poparity(a):         #回傳情感值 [-1,1],1表好,-1表差\n",
    "    blob=TextBlob(a)\n",
    "    return blob.polarity\n",
    "\n",
    "def preprocessing(df,words): #回傳情感非0的那些單字與向量,好的為1,差的為0,\n",
    "    label=[]\n",
    "    data=[]\n",
    "    word=[]\n",
    "    for i in range(len(words)):\n",
    "        if (poparity(words[i])!=0):\n",
    "            a=poparity(words[i])\n",
    "            data.append(df[i])\n",
    "            word.append(labels_array[i])\n",
    "            if a==-1:\n",
    "                label.append(0)\n",
    "            else:\n",
    "                label.append(math.ceil(a))\n",
    "    return word,data,label"
   ]
  },
  {
   "cell_type": "markdown",
   "metadata": {},
   "source": [
    "#### 從10000個單字中取出帶有情感的單字"
   ]
  },
  {
   "cell_type": "code",
   "execution_count": 3,
   "metadata": {
    "collapsed": true
   },
   "outputs": [],
   "source": [
    "input_vector_file = 'glove.6B.300d.txt' # Vector file input (e.g. glove.6B.300d.txt)\n",
    "df, labels_array = build_word_vector_matrix(input_vector_file, 10000)\n",
    "w,d,l=preprocessing(df,labels_array) # w為帶有情感的單字 , d 代表該單字的向量 , l 代表帶有的情感"
   ]
  },
  {
   "cell_type": "markdown",
   "metadata": {},
   "source": [
    "#### 將資料用PCA降維 ,映射在2維平面上 ,觀察可知有些部分是重疊的"
   ]
  },
  {
   "cell_type": "code",
   "execution_count": 4,
   "metadata": {},
   "outputs": [
    {
     "data": {
      "image/png": "[encoded data removed]",
      "text/plain": [
       "<matplotlib.figure.Figure at 0x6abadd8>"
      ]
     },
     "metadata": {},
     "output_type": "display_data"
    }
   ],
   "source": [
    "import matplotlib.pyplot as plt\n",
    "from sklearn.decomposition import PCA\n",
    "from sklearn.preprocessing import scale\n",
    "import numpy as np\n",
    "pca = PCA(n_components=2)\n",
    "d=scale(d)                      #資料正規化 平均為1 標準差為1\n",
    "vector=pca.fit_transform(d)     #將資料映射到二維平面\n",
    "\n",
    "colors = ['blue',  'red']       #0為藍點 , 1為紅點\n",
    "for i in range(len(colors)):\n",
    "    x = vector[:, 0][np.array(l) == i]\n",
    "    y = vector[:, 1][np.array(l) == i]\n",
    "    plt.scatter(x, y, c=colors[i],marker='.')\n",
    "    \n",
    "plt.legend(range(len(colors)), bbox_to_anchor=(1.05, 1), loc=2, borderaxespad=0.)\n",
    "plt.xlabel('First Principal Component')\n",
    "plt.ylabel('Second Principal Component')\n",
    "plt.title(\"PCA Scatter Plot\")\n",
    "plt.show()"
   ]
  },
  {
   "cell_type": "markdown",
   "metadata": {},
   "source": [
    "# SVM"
   ]
  },
  {
   "cell_type": "markdown",
   "metadata": {},
   "source": [
    "#### 將資料分割成訓練資料與驗證資料"
   ]
  },
  {
   "cell_type": "code",
   "execution_count": 5,
   "metadata": {},
   "outputs": [
    {
     "name": "stderr",
     "output_type": "stream",
     "text": [
      "C:\\Users\\baker\\Anaconda3\\lib\\site-packages\\sklearn\\cross_validation.py:41: DeprecationWarning: This module was deprecated in version 0.18 in favor of the model_selection module into which all the refactored classes and functions are moved. Also note that the interface of the new CV iterators are different from that of this module. This module will be removed in 0.20.\n",
      "  \"This module will be removed in 0.20.\", DeprecationWarning)\n"
     ]
    }
   ],
   "source": [
    "# Import `train_test_split`\n",
    "from sklearn.cross_validation import train_test_split\n",
    "# Split the `digits` data into training and test sets\n",
    "X_train, X_test, y_train, y_test =train_test_split(d, l , test_size=0.2, random_state=42)"
   ]
  },
  {
   "cell_type": "markdown",
   "metadata": {},
   "source": [
    "#### 隨便帶一組參數進去SVM看看結果 ,準確率為80%"
   ]
  },
  {
   "cell_type": "code",
   "execution_count": 6,
   "metadata": {},
   "outputs": [
    {
     "data": {
      "text/plain": [
       "0.80991735537190079"
      ]
     },
     "execution_count": 6,
     "metadata": {},
     "output_type": "execute_result"
    }
   ],
   "source": [
    "# Import the `svm` model\n",
    "from sklearn import svm\n",
    "# Create the SVC model \n",
    "svc_model = svm.SVC(gamma=0.001, C=100., kernel='linear')\n",
    "# Fit the data to the SVC model\n",
    "svc_model.fit(X_train, y_train)\n",
    "# Apply the classifier to the test data, and view the accuracy score\n",
    "svc_model.score(X_test,y_test)"
   ]
  },
  {
   "cell_type": "markdown",
   "metadata": {},
   "source": [
    "#### 使用網格搜尋法找出SVM的較佳參數"
   ]
  },
  {
   "cell_type": "code",
   "execution_count": 7,
   "metadata": {},
   "outputs": [
    {
     "name": "stderr",
     "output_type": "stream",
     "text": [
      "C:\\Users\\baker\\Anaconda3\\lib\\site-packages\\sklearn\\grid_search.py:42: DeprecationWarning: This module was deprecated in version 0.18 in favor of the model_selection module into which all the refactored classes and functions are moved. This module will be removed in 0.20.\n",
      "  DeprecationWarning)\n"
     ]
    },
    {
     "name": "stdout",
     "output_type": "stream",
     "text": [
      "Best score for training data: 0.8045738045738046\n",
      "Best `C`: 1\n",
      "Best kernel: rbf\n",
      "Best `gamma`: 0.001\n"
     ]
    }
   ],
   "source": [
    "# Import GridSearchCV\n",
    "from sklearn.grid_search import GridSearchCV\n",
    "\n",
    "# Set the parameter candidates\n",
    "parameter_candidates = [\n",
    "  {'C': [1, 10, 100, 1000], 'kernel': ['linear']},\n",
    "  {'C': [1, 10, 100, 1000], 'gamma': [0.001, 0.0001], 'kernel': ['rbf']},\n",
    "]\n",
    "\n",
    "# Create a classifier with the parameter candidates\n",
    "clf = GridSearchCV(estimator=svm.SVC(), param_grid=parameter_candidates, n_jobs=-1)\n",
    "\n",
    "# Train the classifier on training data\n",
    "clf.fit(X_train, y_train)\n",
    "# Print out the results \n",
    "print('Best score for training data:', clf.best_score_)\n",
    "print('Best `C`:',clf.best_estimator_.C)\n",
    "print('Best kernel:',clf.best_estimator_.kernel)\n",
    "print('Best `gamma`:',clf.best_estimator_.gamma)"
   ]
  },
  {
   "cell_type": "markdown",
   "metadata": {},
   "source": [
    "#### 調整參數後準確率為86%"
   ]
  },
  {
   "cell_type": "code",
   "execution_count": 8,
   "metadata": {},
   "outputs": [
    {
     "data": {
      "text/plain": [
       "0.85950413223140498"
      ]
     },
     "execution_count": 8,
     "metadata": {},
     "output_type": "execute_result"
    }
   ],
   "source": [
    "clf.score(X_test, y_test) "
   ]
  },
  {
   "cell_type": "markdown",
   "metadata": {},
   "source": [
    "#### 手動輸入搜尋出的參數 ,重設 SVM 參數"
   ]
  },
  {
   "cell_type": "code",
   "execution_count": 9,
   "metadata": {},
   "outputs": [
    {
     "data": {
      "text/plain": [
       "0.85950413223140498"
      ]
     },
     "execution_count": 9,
     "metadata": {},
     "output_type": "execute_result"
    }
   ],
   "source": [
    "# Train and score a new classifier with the grid search parameters\n",
    "svc_model =svm.SVC(C=1, kernel='rbf', gamma=0.001)\n",
    "svc_model.fit(X_train, y_train)\n",
    "svc_model.score(X_test,y_test)"
   ]
  },
  {
   "cell_type": "markdown",
   "metadata": {},
   "source": [
    "#### 建立classification_report & confusion_matrix ,觀察判斷錯的情況較多為喜悅誤判為悲傷 ,共11筆 "
   ]
  },
  {
   "cell_type": "code",
   "execution_count": 10,
   "metadata": {},
   "outputs": [
    {
     "name": "stdout",
     "output_type": "stream",
     "text": [
      "             precision    recall  f1-score   support\n",
      "\n",
      "          0       0.90      0.79      0.84        57\n",
      "          1       0.83      0.92      0.87        64\n",
      "\n",
      "avg / total       0.86      0.86      0.86       121\n",
      "\n",
      "[[45 12]\n",
      " [ 5 59]]\n"
     ]
    }
   ],
   "source": [
    "# Import `metrics`\n",
    "from sklearn import metrics\n",
    "\n",
    "predicted=svc_model.predict(X_test)\n",
    "\n",
    "# Print the classification report of `y_test` and `predicted`\n",
    "print(metrics.classification_report(y_test, predicted))\n",
    "\n",
    "# Print the confusion matrix\n",
    "print(metrics.confusion_matrix(y_test, predicted))"
   ]
  }
 ],
 "metadata": {
  "kernelspec": {
   "display_name": "Python 3",
   "language": "python",
   "name": "python3"
  },
  "language_info": {
   "codemirror_mode": {
    "name": "ipython",
    "version": 3
   },
   "file_extension": ".py",
   "mimetype": "text/x-python",
   "name": "python",
   "nbconvert_exporter": "python",
   "pygments_lexer": "ipython3",
   "version": "3.6.3"
  }
 },
 "nbformat": 4,
 "nbformat_minor": 2
}
